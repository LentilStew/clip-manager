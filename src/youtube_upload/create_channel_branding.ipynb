{
 "cells": [
  {
   "cell_type": "code",
   "execution_count": 3,
   "metadata": {},
   "outputs": [],
   "source": [
    "from PIL import Image, ImageDraw, ImageFont\n",
    "import matplotlib.pyplot as plt\n",
    "import json\n",
    "def create_channel_image(channel_title,image_width,image_height,font_size,show=True,path:str=None,font_path=\"/usr/share/fonts/truetype/Roboto/Roboto-Regular.ttf\",background_color = \"#111312\"):\n",
    "    image = Image.new(\"RGB\", (image_width, image_height), background_color)\n",
    "    draw = ImageDraw.Draw(image)\n",
    "    # Define the font and size for the text\n",
    "    font = ImageFont.truetype(font_path, font_size)\n",
    "\n",
    "    # Calculate the position to center the text\n",
    "    text_width, text_height = draw.textsize(channel_title, font)\n",
    "\n",
    "    x = (image.width - text_width) // 2\n",
    "    y = (image.height - text_height) // 2\n",
    "\n",
    "\n",
    "\n",
    "    decoration_size = int(font_size * .75)\n",
    "    decoration_height = int(decoration_size *.8)\n",
    "    decoration_weigth = int(decoration_size * .15) \n",
    "    decoration = Image.new(\"RGB\", (decoration_height, decoration_size), background_color)\n",
    "    decoration_draw = ImageDraw.Draw(decoration)\n",
    "    decoration_draw.arc((0, 0, decoration_size, decoration_size), 60, 300, fill=\"white\",width=decoration_weigth)\n",
    "    decoration = decoration.rotate(-90, expand=True)\n",
    "    decoration_text_x = (image.width - decoration_size) // 2\n",
    "    decoration_text_y = ((image.height) // 2) - text_height\n",
    "\n",
    "    image.paste(decoration, (decoration_text_x, decoration_text_y))\n",
    "    draw.text((x, y), channel_title, font=font, fill=\"white\")\n",
    "    \n",
    "    if show:\n",
    "        plt.imshow(image)\n",
    "        plt.axis('off')\n",
    "        plt.show()\n",
    "        \n",
    "    if path is not None:\n",
    "        image.save(path)\n",
    "        "
   ]
  },
  {
   "cell_type": "code",
   "execution_count": 4,
   "metadata": {},
   "outputs": [],
   "source": [
    "import os\n",
    "import json\n",
    "with open(\"../../channels.json\",\"r\") as f:\n",
    "    channels = json.load(f)"
   ]
  },
  {
   "cell_type": "code",
   "execution_count": 6,
   "metadata": {},
   "outputs": [],
   "source": [
    "\n",
    "YOUTUBE_BANNER_SETTINGS = {\n",
    "    \"image_width\":2560,\n",
    "    \"image_height\":1440,\n",
    "    \"font_size\":300\n",
    "}\n",
    "\n",
    "YOUTUBE_PFP_SETTINGS = {\n",
    "    \"image_width\":500,\n",
    "    \"image_height\":500,\n",
    "    \"font_size\":150\n",
    "}\n",
    "\n",
    "path = \"../../branding\"\n",
    "if not os.path.exists(path):\n",
    "    os.mkdir(path)\n",
    "\n",
    "for channel in channels:\n",
    "    for brand_channel in channel[\"channels\"]:\n",
    "        brand_channel_path = os.path.join(path,brand_channel[\"channel-name\"])\n",
    "        \n",
    "        if not os.path.exists(brand_channel_path):\n",
    "            os.mkdir(brand_channel_path)\n",
    "\n",
    "        PFP_path = os.path.join(brand_channel_path,\"pfp.png\")\n",
    "        BANNER_path = os.path.join(brand_channel_path,\"banner.png\")\n",
    "        \n",
    "        create_channel_image(channel_title=brand_channel[\"channel-name\"],**YOUTUBE_BANNER_SETTINGS,show=False,path=BANNER_path)\n",
    "        create_channel_image(channel_title=brand_channel[\"channel-name\"],**YOUTUBE_PFP_SETTINGS,show=False,path=PFP_path)\n",
    "        \n",
    "        "
   ]
  },
  {
   "cell_type": "code",
   "execution_count": null,
   "metadata": {},
   "outputs": [],
   "source": []
  }
 ],
 "metadata": {
  "kernelspec": {
   "display_name": "Python 3",
   "language": "python",
   "name": "python3"
  },
  "language_info": {
   "codemirror_mode": {
    "name": "ipython",
    "version": 3
   },
   "file_extension": ".py",
   "mimetype": "text/x-python",
   "name": "python",
   "nbconvert_exporter": "python",
   "pygments_lexer": "ipython3",
   "version": "3.10.6"
  },
  "orig_nbformat": 4
 },
 "nbformat": 4,
 "nbformat_minor": 2
}
